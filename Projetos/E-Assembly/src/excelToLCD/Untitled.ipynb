{
 "cells": [
  {
   "cell_type": "code",
   "execution_count": 50,
   "id": "0c383044-27a8-4add-bbcc-4c40225b755f",
   "metadata": {},
   "outputs": [
    {
     "name": "stdout",
     "output_type": "stream",
     "text": [
      "320 240\n"
     ]
    },
    {
     "data": {
      "image/png": "[encoded data removed]",
      "text/plain": [
       "<Figure size 432x288 with 1 Axes>"
      ]
     },
     "metadata": {
      "needs_background": "light"
     },
     "output_type": "display_data"
    }
   ],
   "source": [
    "# Escrever um script em python que le\n",
    "# uma tabela do excel\n",
    "# e gera o código em assembly\n",
    "# para gerar a imagem no LCD\n",
    "\n",
    "# Ao invés de um excel, vou ler uma imagem\n",
    "import cv2\n",
    "import numpy as np\n",
    "import matplotlib.pyplot as plt\n",
    "\n",
    "img = cv2.imread('input.png')\n",
    "\n",
    "img = cv2.cvtColor(img, cv2.COLOR_BGR2GRAY)\n",
    "_, img = cv2.threshold(img,127,255,cv2.THRESH_BINARY)\n",
    "\n",
    "rows,cols = img.shape\n",
    "\n",
    "pixels = []\n",
    "\n",
    "print(cols, rows)\n",
    "\n",
    "def encontra_endereco(x, y):\n",
    "    return (16384 + y*20, x%16)\n",
    "\n",
    "for x in range(cols):\n",
    "    for y in range(rows):\n",
    "        k = img[y,x]\n",
    "        if k == 0:\n",
    "            pixels.append(encontra_endereco(x, y))\n",
    "\n",
    "vals = {}\n",
    "            \n",
    "def set_one(string, pos):\n",
    "    new = list(string)\n",
    "    new[pos] = '1'\n",
    "    return ''.join(new)\n",
    "    \n",
    "for p in pixels:\n",
    "    if p[0] in vals:\n",
    "        vals[p[0]] = set_one(vals[p[0]], p[1])\n",
    "    else:\n",
    "        vals[p[0]] = set_one('0000000000000000', p[1])\n",
    "        \n",
    "def memory_template(addr, val_dec):\n",
    "    return f'''\n",
    "leaw ${val_dec}, %A\n",
    "movw %A, %D\n",
    "leaw ${addr}, %A\n",
    "movw %D, (%A)\n",
    "'''\n",
    "        \n",
    "string_final = ''\n",
    "    \n",
    "for k in vals.keys():\n",
    "    string_final += memory_template(k, int(vals[k], 2))\n",
    "    \n",
    "f = open(\"output.nasm\", \"w\")\n",
    "f.write(string_final)\n",
    "f.close()    \n",
    "\n",
    "plt.imshow(img)\n",
    "plt.show()"
   ]
  }
 ],
 "metadata": {
  "kernelspec": {
   "display_name": "Python 3 (ipykernel)",
   "language": "python",
   "name": "python3"
  },
  "language_info": {
   "codemirror_mode": {
    "name": "ipython",
    "version": 3
   },
   "file_extension": ".py",
   "mimetype": "text/x-python",
   "name": "python",
   "nbconvert_exporter": "python",
   "pygments_lexer": "ipython3",
   "version": "3.8.10"
  }
 },
 "nbformat": 4,
 "nbformat_minor": 5
}
